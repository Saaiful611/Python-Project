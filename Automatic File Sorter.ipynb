{
 "cells": [
  {
   "cell_type": "code",
   "execution_count": 1,
   "id": "39f423b9-874d-4309-95f3-c014f4f0a1b3",
   "metadata": {},
   "outputs": [],
   "source": [
    "import os,shutil"
   ]
  },
  {
   "cell_type": "code",
   "execution_count": 3,
   "id": "e2d73ea0-61c7-48fe-8f83-9cbf7091e29e",
   "metadata": {},
   "outputs": [],
   "source": [
    "path = \"C:/Users/Dell/Desktop/Temp/\"\n",
    "#print(path)"
   ]
  },
  {
   "cell_type": "code",
   "execution_count": 11,
   "id": "d1641a99-7836-411b-8b21-a30005519aab",
   "metadata": {},
   "outputs": [],
   "source": [
    "file_name = os.listdir(path)\n",
    "#print(file_name)"
   ]
  },
  {
   "cell_type": "code",
   "execution_count": 9,
   "id": "0b13c115-7782-42fa-a145-75a840eef7d6",
   "metadata": {},
   "outputs": [],
   "source": [
    "folder_name = [\"csv files\",'image files','text files']\n",
    "for i in range(0,3):\n",
    "    if not os.path.exists(path + folder_name[i]):\n",
    "        #print(path + folder_name[i])\n",
    "        os.mkdir(path + folder_name[i])"
   ]
  },
  {
   "cell_type": "code",
   "execution_count": 13,
   "id": "39ad1307-e3e3-49f6-8e0b-a962e5e60a73",
   "metadata": {},
   "outputs": [],
   "source": [
    "for file in file_name:\n",
    "    if '.csv' in file and not os.path.exists(path +\"csv files/\" + file):\n",
    "        shutil.move(path + file,path +\"csv files/\" + file)\n",
    "    elif '.PNG' in file and not os.path.exists(path +\"image files/\" + file):\n",
    "        shutil.move(path + file,path +\"image files/\" + file)\n",
    "    elif '.txt' in file and not os.path.exists(path +\"text files/\" + file):\n",
    "        shutil.move(path + file,path +\"text files/\" + file)"
   ]
  }
 ],
 "metadata": {
  "kernelspec": {
   "display_name": "Python 3 (ipykernel)",
   "language": "python",
   "name": "python3"
  },
  "language_info": {
   "codemirror_mode": {
    "name": "ipython",
    "version": 3
   },
   "file_extension": ".py",
   "mimetype": "text/x-python",
   "name": "python",
   "nbconvert_exporter": "python",
   "pygments_lexer": "ipython3",
   "version": "3.11.7"
  }
 },
 "nbformat": 4,
 "nbformat_minor": 5
}
