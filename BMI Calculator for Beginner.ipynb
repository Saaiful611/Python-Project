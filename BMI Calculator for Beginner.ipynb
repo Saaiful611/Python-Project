{
 "cells": [
  {
   "cell_type": "code",
   "execution_count": null,
   "id": "2dcf36ab-c833-4a5f-8ae4-711de229f7c0",
   "metadata": {},
   "outputs": [],
   "source": [
    "name = input(\"Enter your name: \")\n",
    "weight = float(input(\"Enter your weight in pounds: \"))\n",
    "height = float(input(\"Enter your height in inches: \"))\n",
    "BMI = (weight*703)/(height**2)\n",
    "print(name +\", your BMI is : \",BMI)\n",
    "\n",
    "if BMI>0:\n",
    "    if BMI<16.0:\n",
    "        print(\"& you are severely underweight\")\n",
    "    elif BMI<18.5 :\n",
    "        print(\"& you are  underweight\")\n",
    "    elif BMI<25.0:\n",
    "        print(\"& you are normal\")\n",
    "    elif BMI<30.0:\n",
    "        print(\"& you are overweight\")\n",
    "    elif BMI<35.0:\n",
    "        print(\"& you are moderately obese\")\n",
    "    elif BMI<40.0:\n",
    "        print(\"& you are severely obese\")\n",
    "    elif BMI>=40.0:\n",
    "        print(\"& you are morbidly obese\")\n",
    "else:\n",
    "    print(\"Enter valid input\")\n",
    "            \n",
    "        "
   ]
  },
  {
   "cell_type": "code",
   "execution_count": null,
   "id": "0af3252d-02df-4cd9-bd36-f95020815830",
   "metadata": {},
   "outputs": [],
   "source": []
  }
 ],
 "metadata": {
  "kernelspec": {
   "display_name": "Python 3 (ipykernel)",
   "language": "python",
   "name": "python3"
  },
  "language_info": {
   "codemirror_mode": {
    "name": "ipython",
    "version": 3
   },
   "file_extension": ".py",
   "mimetype": "text/x-python",
   "name": "python",
   "nbconvert_exporter": "python",
   "pygments_lexer": "ipython3",
   "version": "3.11.7"
  }
 },
 "nbformat": 4,
 "nbformat_minor": 5
}
